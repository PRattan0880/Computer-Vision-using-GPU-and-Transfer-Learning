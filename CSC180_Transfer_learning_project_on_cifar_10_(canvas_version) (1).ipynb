{
  "nbformat": 4,
  "nbformat_minor": 0,
  "metadata": {
    "accelerator": "GPU",
    "anaconda-cloud": {},
    "colab": {
      "name": "CSC180_Transfer_learning_project_on_cifar_10_(canvas_version).ipynb",
      "provenance": [],
      "collapsed_sections": []
    },
    "kernelspec": {
      "display_name": "Python 3",
      "language": "python",
      "name": "python3"
    },
    "language_info": {
      "codemirror_mode": {
        "name": "ipython",
        "version": 3
      },
      "file_extension": ".py",
      "mimetype": "text/x-python",
      "name": "python",
      "nbconvert_exporter": "python",
      "pygments_lexer": "ipython3",
      "version": "3.8.8"
    }
  },
  "cells": [
    {
      "cell_type": "markdown",
      "metadata": {
        "id": "C-BeOChlfOfY"
      },
      "source": [
        "## Mini-Project 3:  Computer Vision using GPU and Transfer Learning\n",
        "\n",
        "\n",
        "#### CSC 180 Intelligent Systems (Fall 2021)\n",
        "\n",
        "#### Dr. Haiquan Chen, California State University, Sacramento"
      ]
    },
    {
      "cell_type": "code",
      "metadata": {
        "id": "rENMVFFibA3H"
      },
      "source": [
        "# Insert your name, your id, course title, assignment id, and due date here as comment \n",
        "#  Sharnpreet Singh - Id#: 219445227  \n",
        "#  James Ochieng - Id#: 219285977\n",
        "#  Palvinder Singh- Id#: 219445344\n",
        "#  Due Date: Oct 28 2021"
      ],
      "execution_count": 1,
      "outputs": []
    },
    {
      "cell_type": "markdown",
      "metadata": {
        "id": "LlFpkRqpfOfa"
      },
      "source": [
        "\n",
        "## Helpful Functions for Tensorflow (Little Gems)\n",
        "\n",
        "The following functions will be used with TensorFlow to help preprocess the data.  They allow you to build the feature vector for a neural network. \n",
        "\n",
        "* Predictors/Inputs \n",
        "    * Fill any missing inputs with the median for that column.  Use **missing_median**.\n",
        "    * Encode textual/categorical values with **encode_text_dummy**.\n",
        "    * Encode numeric values with **encode_numeric_zscore**.\n",
        "* Output\n",
        "    * Discard rows with missing outputs.\n",
        "    * Encode textual/categorical values with **encode_text_index**.\n",
        "    * Do not encode output numeric values.\n",
        "* Produce final feature vectors (x) and expected output (y) with **to_xy**."
      ]
    },
    {
      "cell_type": "code",
      "metadata": {
        "id": "FOddo2bbfOfb"
      },
      "source": [
        "from collections.abc import Sequence\n",
        "from sklearn import preprocessing\n",
        "import matplotlib.pyplot as plt\n",
        "import numpy as np\n",
        "import pandas as pd\n",
        "import shutil\n",
        "import os\n",
        "\n",
        "\n",
        "# Encode text values to dummy variables(i.e. [1,0,0],[0,1,0],[0,0,1] for red,green,blue)\n",
        "def encode_text_dummy(df, name):\n",
        "    dummies = pd.get_dummies(df[name])\n",
        "    for x in dummies.columns:\n",
        "        dummy_name = \"{}-{}\".format(name, x)\n",
        "        df[dummy_name] = dummies[x]\n",
        "    df.drop(name, axis=1, inplace=True)\n",
        "\n",
        "\n",
        "# Encode text values to indexes(i.e. [1],[2],[3] for red,green,blue).\n",
        "def encode_text_index(df, name):\n",
        "    le = preprocessing.LabelEncoder()\n",
        "    df[name] = le.fit_transform(df[name])\n",
        "    return le.classes_\n",
        "\n",
        "\n",
        "# Encode a numeric column as zscores\n",
        "def encode_numeric_zscore(df, name, mean=None, sd=None):\n",
        "    if mean is None:\n",
        "        mean = df[name].mean()\n",
        "\n",
        "    if sd is None:\n",
        "        sd = df[name].std()\n",
        "\n",
        "    df[name] = (df[name] - mean) / sd\n",
        "\n",
        "\n",
        "# Convert all missing values in the specified column to the median\n",
        "def missing_median(df, name):\n",
        "    med = df[name].median()\n",
        "    df[name] = df[name].fillna(med)\n",
        "\n",
        "\n",
        "# Convert all missing values in the specified column to the default\n",
        "def missing_default(df, name, default_value):\n",
        "    df[name] = df[name].fillna(default_value)\n",
        "\n",
        "\n",
        "# Convert a Pandas dataframe to the x,y inputs that TensorFlow needs\n",
        "def to_xy(df, target):\n",
        "    result = []\n",
        "    for x in df.columns:\n",
        "        if x != target:\n",
        "            result.append(x)\n",
        "    # find out the type of the target column. \n",
        "    target_type = df[target].dtypes\n",
        "    target_type = target_type[0] if isinstance(target_type, Sequence) else target_type\n",
        "    # Encode to int for classification, float otherwise. TensorFlow likes 32 bits.\n",
        "    if target_type in (np.int64, np.int32):\n",
        "        # Classification\n",
        "        dummies = pd.get_dummies(df[target])\n",
        "        return df[result].values.astype(np.float32), dummies.values.astype(np.float32)\n",
        "    else:\n",
        "        # Regression\n",
        "        return df[result].values.astype(np.float32), df[target].values.astype(np.float32)\n",
        "\n",
        "# Nicely formatted time string\n",
        "def hms_string(sec_elapsed):\n",
        "    h = int(sec_elapsed / (60 * 60))\n",
        "    m = int((sec_elapsed % (60 * 60)) / 60)\n",
        "    s = sec_elapsed % 60\n",
        "    return \"{}:{:>02}:{:>05.2f}\".format(h, m, s)\n",
        "\n",
        "\n",
        "# Regression chart.\n",
        "def chart_regression(pred,y,sort=True):\n",
        "    t = pd.DataFrame({'pred' : pred, 'y' : y.flatten()})\n",
        "    if sort:\n",
        "        t.sort_values(by=['y'],inplace=True)\n",
        "    a = plt.plot(t['y'].tolist(),label='expected')\n",
        "    b = plt.plot(t['pred'].tolist(),label='prediction')\n",
        "    plt.ylabel('output')\n",
        "    plt.legend()\n",
        "    plt.show()\n",
        "\n",
        "# Remove all rows where the specified column is +/- sd standard deviations\n",
        "def remove_outliers(df, name, sd):\n",
        "    drop_rows = df.index[(np.abs(df[name] - df[name].mean()) >= (sd * df[name].std()))]\n",
        "    df.drop(drop_rows, axis=0, inplace=True)\n",
        "\n",
        "\n",
        "# Encode a column to a range between normalized_low and normalized_high.\n",
        "def encode_numeric_range(df, name, normalized_low=-1, normalized_high=1,\n",
        "                         data_low=None, data_high=None):\n",
        "    if data_low is None:\n",
        "        data_low = min(df[name])\n",
        "        data_high = max(df[name])\n",
        "\n",
        "    df[name] = ((df[name] - data_low) / (data_high - data_low)) \\\n",
        "               * (normalized_high - normalized_low) + normalized_low\n"
      ],
      "execution_count": 2,
      "outputs": []
    },
    {
      "cell_type": "markdown",
      "metadata": {
        "id": "qU8FIYWRVXM1"
      },
      "source": [
        "## Switch and Verify GPU\n",
        "\n",
        "### To enable GPU backend for your notebook. Runtime->Change runtime type->Hardware Accelerator->GPU."
      ]
    },
    {
      "cell_type": "code",
      "metadata": {
        "colab": {
          "base_uri": "https://localhost:8080/",
          "height": 35
        },
        "id": "1s9pBa09U_zJ",
        "outputId": "ca1fed0d-a488-4a0e-fd0f-fedec8218b82"
      },
      "source": [
        "import tensorflow as tf\n",
        "\n",
        "tf.test.gpu_device_name()"
      ],
      "execution_count": 3,
      "outputs": [
        {
          "output_type": "execute_result",
          "data": {
            "application/vnd.google.colaboratory.intrinsic+json": {
              "type": "string"
            },
            "text/plain": [
              "'/device:GPU:0'"
            ]
          },
          "metadata": {},
          "execution_count": 3
        }
      ]
    },
    {
      "cell_type": "markdown",
      "metadata": {
        "id": "SFpkSEEDbTag"
      },
      "source": [
        "### If the above code output '/device:GPU:0',  you have switched to GPU successfully and you are ready to go. \n",
        "\n"
      ]
    },
    {
      "cell_type": "markdown",
      "metadata": {
        "collapsed": true,
        "id": "Kv39g9StfOff"
      },
      "source": [
        "## Part I:   Image classification without transfer learning\n",
        "\n",
        "https://www.cs.toronto.edu/~kriz/cifar.html"
      ]
    },
    {
      "cell_type": "code",
      "metadata": {
        "id": "0495-SoMfOfg"
      },
      "source": [
        "#  Load cifar-10 data and split it to training and test\n",
        "from sklearn.metrics import confusion_matrix\n",
        "from sklearn.metrics import classification_report\n",
        "\n",
        "from tensorflow.keras.datasets import cifar10\n",
        "\n",
        "from tensorflow.keras.models import Sequential\n",
        "from tensorflow.keras.layers import Dense, Dropout, Activation, Flatten\n",
        "from tensorflow.keras.layers import Conv2D, MaxPooling2D\n",
        "\n",
        "num_classes = 10\n",
        "\n",
        "# The data split between train and test sets:\n",
        "(x_train, y_train), (x_test, y_test) = cifar10.load_data()\n"
      ],
      "execution_count": 41,
      "outputs": []
    },
    {
      "cell_type": "code",
      "metadata": {
        "id": "9DWyVv_efOfj",
        "colab": {
          "base_uri": "https://localhost:8080/"
        },
        "outputId": "cce4dbb3-81f2-468b-e094-9f484c020a7a"
      },
      "source": [
        "# print out data shape\n",
        "\n",
        "print('x_train shape:', x_train.shape)\n",
        "print('y_train shape:', y_train.shape)\n",
        "\n",
        "print('x_test shape:', x_test.shape)\n",
        "print('y_test shape:', y_test.shape)\n",
        "\n",
        "\n",
        "print(x_train.shape[0], 'train samples')\n",
        "print(x_test.shape[0], 'test samples')"
      ],
      "execution_count": 42,
      "outputs": [
        {
          "output_type": "stream",
          "name": "stdout",
          "text": [
            "x_train shape: (50000, 32, 32, 3)\n",
            "y_train shape: (50000, 1)\n",
            "x_test shape: (10000, 32, 32, 3)\n",
            "y_test shape: (10000, 1)\n",
            "50000 train samples\n",
            "10000 test samples\n"
          ]
        }
      ]
    },
    {
      "cell_type": "code",
      "metadata": {
        "id": "5_Z_IKevu2Ji",
        "colab": {
          "base_uri": "https://localhost:8080/"
        },
        "outputId": "f19ff068-af4f-49b1-c9ef-35ee262a4c65"
      },
      "source": [
        "# print out a random image in x_train as numpy array\n",
        "x_train.shape[1:]"
      ],
      "execution_count": 43,
      "outputs": [
        {
          "output_type": "execute_result",
          "data": {
            "text/plain": [
              "(32, 32, 3)"
            ]
          },
          "metadata": {},
          "execution_count": 43
        }
      ]
    },
    {
      "cell_type": "code",
      "metadata": {
        "id": "cbcMvRhqvWAc",
        "colab": {
          "base_uri": "https://localhost:8080/",
          "height": 283
        },
        "outputId": "7592f1eb-bd93-43ca-f4f6-4909ab1d2385"
      },
      "source": [
        "# print it out as image\n",
        "\n",
        "import matplotlib.pyplot as plt\n",
        "\n",
        "\n",
        "plt.imshow(x_train[16])"
      ],
      "execution_count": 44,
      "outputs": [
        {
          "output_type": "execute_result",
          "data": {
            "text/plain": [
              "<matplotlib.image.AxesImage at 0x7fa42782a610>"
            ]
          },
          "metadata": {},
          "execution_count": 44
        },
        {
          "output_type": "display_data",
          "data": {
            "image/png": "[encoded data removed]",
            "text/plain": [
              "<Figure size 432x288 with 1 Axes>"
            ]
          },
          "metadata": {
            "needs_background": "light"
          }
        }
      ]
    },
    {
      "cell_type": "code",
      "metadata": {
        "id": "qMwUTdqp0rUJ"
      },
      "source": [
        "# Convert y_train from 2D to 1D \n",
        "\n",
        "y_train = y_train.reshape(50000)\n"
      ],
      "execution_count": 45,
      "outputs": []
    },
    {
      "cell_type": "code",
      "metadata": {
        "id": "ojvUNZgG0xVe",
        "colab": {
          "base_uri": "https://localhost:8080/"
        },
        "outputId": "88ad61fc-aaad-4981-a006-a96d575ef335"
      },
      "source": [
        "y_train.shape\n",
        "\n",
        "# expected output: (50000,)"
      ],
      "execution_count": 46,
      "outputs": [
        {
          "output_type": "execute_result",
          "data": {
            "text/plain": [
              "(50000,)"
            ]
          },
          "metadata": {},
          "execution_count": 46
        }
      ]
    },
    {
      "cell_type": "code",
      "metadata": {
        "id": "HcrolrznfOf2"
      },
      "source": [
        "# Convert y_test from 2D to 1D \n",
        "\n",
        "y_test = y_test.reshape(10000)\n"
      ],
      "execution_count": 47,
      "outputs": []
    },
    {
      "cell_type": "code",
      "metadata": {
        "id": "iT3IYTNqfOf6",
        "colab": {
          "base_uri": "https://localhost:8080/"
        },
        "outputId": "1dbd5d5e-d230-4c12-acaa-0833800169eb"
      },
      "source": [
        "y_test.shape\n",
        "\n",
        "# expected output: (10000,)"
      ],
      "execution_count": 48,
      "outputs": [
        {
          "output_type": "execute_result",
          "data": {
            "text/plain": [
              "(10000,)"
            ]
          },
          "metadata": {},
          "execution_count": 48
        }
      ]
    },
    {
      "cell_type": "code",
      "metadata": {
        "id": "5-lWtPlHfOf9",
        "colab": {
          "base_uri": "https://localhost:8080/"
        },
        "outputId": "3a7361b7-88f6-4e48-9235-00f38fa6aa7d"
      },
      "source": [
        "# Convert class vectors to one hot format\n",
        "\n",
        "y_train = tf.keras.utils.to_categorical(y_train, num_classes)\n",
        "y_test = tf.keras.utils.to_categorical(y_test, num_classes)\n",
        "\n",
        "y_train.shape, y_test.shape"
      ],
      "execution_count": 49,
      "outputs": [
        {
          "output_type": "execute_result",
          "data": {
            "text/plain": [
              "((50000, 10), (10000, 10))"
            ]
          },
          "metadata": {},
          "execution_count": 49
        }
      ]
    },
    {
      "cell_type": "code",
      "metadata": {
        "id": "DFzHf8QefOgC"
      },
      "source": [
        "# Convert data from int to float and normalize it\n",
        "x_train = x_train.astype('float32')\n",
        "x_test = x_test.astype('float32')\n",
        "\n",
        "x_train /= 255\n",
        "x_test /= 255"
      ],
      "execution_count": 50,
      "outputs": []
    },
    {
      "cell_type": "markdown",
      "metadata": {
        "id": "QXXjBVW1lDt1"
      },
      "source": [
        "###  Write your code in the cell below to create a CNN model which contains the following types of operations (layers):   \n",
        "\n",
        "- Conv2D\n",
        "- Activation\n",
        "- MaxPooling2D\n",
        "- Flatten\n",
        "- Dropout\n",
        "- Dense\n",
        "\n",
        "### (optional) You are also encouraged to create multiple models with different activiation functions, different numbers of neurons and layers for performance comparison."
      ]
    },
    {
      "cell_type": "code",
      "metadata": {
        "id": "grVEwQfQfOgE",
        "colab": {
          "base_uri": "https://localhost:8080/"
        },
        "outputId": "c4357d85-9175-41b5-c532-f255aea091af"
      },
      "source": [
        "\n",
        "img_rows,img_cols=32,32\n",
        "input_shape = (img_rows, img_cols, 3)\n",
        "\n",
        "from tensorflow.keras.models import Sequential\n",
        "from tensorflow.keras.layers import Dense, Activation,Dropout,Flatten\n",
        "from tensorflow.keras.callbacks import EarlyStopping\n",
        "from tensorflow.keras.layers import Conv2D, MaxPooling2D\n",
        "from tensorflow.keras import optimizers\n",
        "from tensorflow.keras.optimizers import Adam\n",
        "\n",
        "cnn = Sequential()\n",
        "cnn.add(Conv2D(32, kernel_size=(3, 3), padding='same',input_shape=input_shape))\n",
        "cnn.add(Activation('relu'))\n",
        "cnn.add(MaxPooling2D(pool_size=(2, 2)))\n",
        "cnn.add(Dropout(0.25))\n",
        "\n",
        "cnn.add(Conv2D(64, (3, 3), padding='same'))\n",
        "cnn.add(Activation('relu'))\n",
        "cnn.add(MaxPooling2D(pool_size=(2, 2)))\n",
        "cnn.add(Dropout(0.25))\n",
        "\n",
        "cnn.add(Flatten())\n",
        "cnn.add(Dropout(0.25))\n",
        "cnn.add(Dense(num_classes, activation='relu'))\n",
        "\n",
        "cnn.add(Flatten())\n",
        "cnn.add(Dense(512))\n",
        "cnn.add(Activation('relu'))\n",
        "cnn.add(Dropout(0.5))\n",
        "\n",
        "cnn.add(Dense(num_classes, activation=\"softmax\"))\n",
        "\n",
        "cnn.compile(loss=tf.keras.losses.categorical_crossentropy, optimizer=Adam(lr=0.001, decay=1e-6), metrics=['accuracy'])"
      ],
      "execution_count": 51,
      "outputs": [
        {
          "output_type": "stream",
          "name": "stderr",
          "text": [
            "/usr/local/lib/python3.7/dist-packages/keras/optimizer_v2/optimizer_v2.py:356: UserWarning: The `lr` argument is deprecated, use `learning_rate` instead.\n",
            "  \"The `lr` argument is deprecated, use `learning_rate` instead.\")\n"
          ]
        }
      ]
    },
    {
      "cell_type": "code",
      "metadata": {
        "id": "FekC4kgffOgG",
        "colab": {
          "base_uri": "https://localhost:8080/"
        },
        "outputId": "0fb74811-494f-418c-979c-44003dabf0ad"
      },
      "source": [
        "# Print model summary\n",
        "\n",
        "cnn.summary()"
      ],
      "execution_count": 52,
      "outputs": [
        {
          "output_type": "stream",
          "name": "stdout",
          "text": [
            "Model: \"sequential_2\"\n",
            "_________________________________________________________________\n",
            "Layer (type)                 Output Shape              Param #   \n",
            "=================================================================\n",
            "conv2d_2 (Conv2D)            (None, 32, 32, 32)        896       \n",
            "_________________________________________________________________\n",
            "activation_3 (Activation)    (None, 32, 32, 32)        0         \n",
            "_________________________________________________________________\n",
            "max_pooling2d_2 (MaxPooling2 (None, 16, 16, 32)        0         \n",
            "_________________________________________________________________\n",
            "dropout_5 (Dropout)          (None, 16, 16, 32)        0         \n",
            "_________________________________________________________________\n",
            "conv2d_3 (Conv2D)            (None, 16, 16, 64)        18496     \n",
            "_________________________________________________________________\n",
            "activation_4 (Activation)    (None, 16, 16, 64)        0         \n",
            "_________________________________________________________________\n",
            "max_pooling2d_3 (MaxPooling2 (None, 8, 8, 64)          0         \n",
            "_________________________________________________________________\n",
            "dropout_6 (Dropout)          (None, 8, 8, 64)          0         \n",
            "_________________________________________________________________\n",
            "flatten_3 (Flatten)          (None, 4096)              0         \n",
            "_________________________________________________________________\n",
            "dropout_7 (Dropout)          (None, 4096)              0         \n",
            "_________________________________________________________________\n",
            "dense_6 (Dense)              (None, 10)                40970     \n",
            "_________________________________________________________________\n",
            "flatten_4 (Flatten)          (None, 10)                0         \n",
            "_________________________________________________________________\n",
            "dense_7 (Dense)              (None, 512)               5632      \n",
            "_________________________________________________________________\n",
            "activation_5 (Activation)    (None, 512)               0         \n",
            "_________________________________________________________________\n",
            "dropout_8 (Dropout)          (None, 512)               0         \n",
            "_________________________________________________________________\n",
            "dense_8 (Dense)              (None, 10)                5130      \n",
            "=================================================================\n",
            "Total params: 71,124\n",
            "Trainable params: 71,124\n",
            "Non-trainable params: 0\n",
            "_________________________________________________________________\n"
          ]
        }
      ]
    },
    {
      "cell_type": "markdown",
      "metadata": {
        "id": "uVNwHr_AmKJi"
      },
      "source": [
        "### Write your code in the cell below for compile, earlystopping and fit. Notice that you should use earlystopping"
      ]
    },
    {
      "cell_type": "code",
      "metadata": {
        "id": "QUxCqaaZfOgI",
        "colab": {
          "base_uri": "https://localhost:8080/"
        },
        "outputId": "c3acb4d3-e896-4ff5-ef5a-54093797d1ee"
      },
      "source": [
        "from tensorflow.keras.optimizers import Adam\n",
        "from tensorflow.keras.callbacks import EarlyStopping, ModelCheckpoint\n",
        "\n",
        "monitor = EarlyStopping(monitor='val_loss', min_delta=1e-3, patience=5, verbose=2, mode='auto')\n",
        "cnn.fit(x_train,y_train,batch_size=128,validation_data=(x_test,y_test),callbacks=[monitor],verbose=2,epochs=1000)"
      ],
      "execution_count": 53,
      "outputs": [
        {
          "output_type": "stream",
          "name": "stdout",
          "text": [
            "Epoch 1/1000\n",
            "391/391 - 7s - loss: 1.7934 - accuracy: 0.3206 - val_loss: 1.4703 - val_accuracy: 0.4712\n",
            "Epoch 2/1000\n",
            "391/391 - 4s - loss: 1.4315 - accuracy: 0.4753 - val_loss: 1.2794 - val_accuracy: 0.5364\n",
            "Epoch 3/1000\n",
            "391/391 - 4s - loss: 1.3090 - accuracy: 0.5190 - val_loss: 1.1971 - val_accuracy: 0.5700\n",
            "Epoch 4/1000\n",
            "391/391 - 4s - loss: 1.2350 - accuracy: 0.5474 - val_loss: 1.1381 - val_accuracy: 0.5837\n",
            "Epoch 5/1000\n",
            "391/391 - 4s - loss: 1.1909 - accuracy: 0.5673 - val_loss: 1.1173 - val_accuracy: 0.5945\n",
            "Epoch 6/1000\n",
            "391/391 - 4s - loss: 1.1573 - accuracy: 0.5760 - val_loss: 1.0875 - val_accuracy: 0.6135\n",
            "Epoch 7/1000\n",
            "391/391 - 4s - loss: 1.1277 - accuracy: 0.5913 - val_loss: 1.0638 - val_accuracy: 0.6172\n",
            "Epoch 8/1000\n",
            "391/391 - 4s - loss: 1.1002 - accuracy: 0.6015 - val_loss: 1.0510 - val_accuracy: 0.6187\n",
            "Epoch 9/1000\n",
            "391/391 - 4s - loss: 1.0827 - accuracy: 0.6071 - val_loss: 1.0171 - val_accuracy: 0.6394\n",
            "Epoch 10/1000\n",
            "391/391 - 4s - loss: 1.0574 - accuracy: 0.6202 - val_loss: 1.0221 - val_accuracy: 0.6359\n",
            "Epoch 11/1000\n",
            "391/391 - 4s - loss: 1.0492 - accuracy: 0.6241 - val_loss: 0.9847 - val_accuracy: 0.6487\n",
            "Epoch 12/1000\n",
            "391/391 - 4s - loss: 1.0272 - accuracy: 0.6329 - val_loss: 0.9924 - val_accuracy: 0.6455\n",
            "Epoch 13/1000\n",
            "391/391 - 4s - loss: 1.0167 - accuracy: 0.6343 - val_loss: 0.9869 - val_accuracy: 0.6474\n",
            "Epoch 14/1000\n",
            "391/391 - 4s - loss: 1.0035 - accuracy: 0.6411 - val_loss: 0.9414 - val_accuracy: 0.6596\n",
            "Epoch 15/1000\n",
            "391/391 - 4s - loss: 0.9879 - accuracy: 0.6488 - val_loss: 0.9588 - val_accuracy: 0.6597\n",
            "Epoch 16/1000\n",
            "391/391 - 4s - loss: 0.9808 - accuracy: 0.6505 - val_loss: 0.9194 - val_accuracy: 0.6735\n",
            "Epoch 17/1000\n",
            "391/391 - 4s - loss: 0.9669 - accuracy: 0.6560 - val_loss: 0.9490 - val_accuracy: 0.6621\n",
            "Epoch 18/1000\n",
            "391/391 - 4s - loss: 0.9519 - accuracy: 0.6606 - val_loss: 0.9232 - val_accuracy: 0.6734\n",
            "Epoch 19/1000\n",
            "391/391 - 4s - loss: 0.9484 - accuracy: 0.6614 - val_loss: 0.9232 - val_accuracy: 0.6751\n",
            "Epoch 20/1000\n",
            "391/391 - 4s - loss: 0.9449 - accuracy: 0.6643 - val_loss: 0.9614 - val_accuracy: 0.6573\n",
            "Epoch 21/1000\n",
            "391/391 - 4s - loss: 0.9336 - accuracy: 0.6696 - val_loss: 0.9448 - val_accuracy: 0.6629\n",
            "Epoch 00021: early stopping\n"
          ]
        },
        {
          "output_type": "execute_result",
          "data": {
            "text/plain": [
              "<keras.callbacks.History at 0x7fa427743f90>"
            ]
          },
          "metadata": {},
          "execution_count": 53
        }
      ]
    },
    {
      "cell_type": "markdown",
      "metadata": {
        "id": "Xigd26XOoU-F"
      },
      "source": [
        "### Write your code in the cell below to print out the Precision, Recall,  F1 score, and classification_*report*\n",
        "\n",
        "### Include your findings in the project report. "
      ]
    },
    {
      "cell_type": "code",
      "metadata": {
        "id": "2_92T0bsfOgQ",
        "colab": {
          "base_uri": "https://localhost:8080/"
        },
        "outputId": "be18dc71-fe76-45d0-b6d5-367374003fea"
      },
      "source": [
        "\n",
        "pred = cnn.predict(x_test)\n",
        "pred = np.argmax(pred,axis=1)\n",
        "y_true = np.argmax(y_test,axis=1)\n",
        "cm = confusion_matrix(y_true, pred)\n",
        "print(cm)\n",
        "print(classification_report(y_true, pred))\n"
      ],
      "execution_count": 54,
      "outputs": [
        {
          "output_type": "stream",
          "name": "stdout",
          "text": [
            "[[564  28  42  16  84   3   7  28 177  51]\n",
            " [ 13 795   0  10   7   4   7   5  42 117]\n",
            " [ 57   6 260 105 356  80  50  55  23   8]\n",
            " [  9   8  34 514 140 168  41  44  28  14]\n",
            " [  4   1  14  31 824  20  14  73  18   1]\n",
            " [  3   3  17 212 115 543   7  78  17   5]\n",
            " [  3   7  17  83 201  18 651   2  14   4]\n",
            " [  7   4   7  29 121  60   1 754   6  11]\n",
            " [ 15  20   4   8  19   6   4   7 891  26]\n",
            " [  4  51   2  13  17   2   7  28  43 833]]\n",
            "              precision    recall  f1-score   support\n",
            "\n",
            "           0       0.83      0.56      0.67      1000\n",
            "           1       0.86      0.80      0.83      1000\n",
            "           2       0.65      0.26      0.37      1000\n",
            "           3       0.50      0.51      0.51      1000\n",
            "           4       0.44      0.82      0.57      1000\n",
            "           5       0.60      0.54      0.57      1000\n",
            "           6       0.83      0.65      0.73      1000\n",
            "           7       0.70      0.75      0.73      1000\n",
            "           8       0.71      0.89      0.79      1000\n",
            "           9       0.78      0.83      0.80      1000\n",
            "\n",
            "    accuracy                           0.66     10000\n",
            "   macro avg       0.69      0.66      0.66     10000\n",
            "weighted avg       0.69      0.66      0.66     10000\n",
            "\n"
          ]
        }
      ]
    },
    {
      "cell_type": "markdown",
      "metadata": {
        "id": "103RRPUvtOie"
      },
      "source": [
        "### Write your code in the cell below to show 3-5 images in the test set as well as their true labels and their labels predicted by your model.\n",
        "\n",
        "### Include your findings in the project report."
      ]
    },
    {
      "cell_type": "code",
      "metadata": {
        "id": "fFryw76VtOie",
        "colab": {
          "base_uri": "https://localhost:8080/",
          "height": 962
        },
        "outputId": "e6100d6c-a1e5-4cd3-c418-d7b549c587ac"
      },
      "source": [
        "class_names=np.array([\"airplane\",\"automobile\",\"bird\",\"cat\",\"deer\",\"dog\",\"frog\",\"horse\",\"ship\",\"truck\"]);\n",
        "fig = plt.figure(figsize=(10, 16))\n",
        "n=1;\n",
        "for i in range(15,20):\n",
        "  fig.add_subplot(3,2,n);\n",
        "  plt.xlabel(\"True Label: \" + class_names[y_true[i]]);\n",
        "  plt.imshow(x_test[i]);\n",
        "  plt.title(\"Predicted Label: \" + class_names[pred[i]]);\n",
        "  fig.subplots_adjust(top=0.9);\n",
        "  n+=1;"
      ],
      "execution_count": 58,
      "outputs": [
        {
          "output_type": "display_data",
          "data": {
            "image/png": "[encoded data removed]",
            "text/plain": [
              "<Figure size 720x1152 with 5 Axes>"
            ]
          },
          "metadata": {
            "needs_background": "light"
          }
        }
      ]
    },
    {
      "cell_type": "markdown",
      "metadata": {
        "id": "MgBnw9dRfOgS"
      },
      "source": [
        "\n",
        "\n",
        "## Part II:   CNN model with Transfer Learning"
      ]
    },
    {
      "cell_type": "code",
      "metadata": {
        "id": "H9rvtqrsfOgT",
        "colab": {
          "base_uri": "https://localhost:8080/",
          "height": 0
        },
        "outputId": "59614803-cdda-419b-8b1b-e6b0264b637d"
      },
      "source": [
        "# We load data again.   The data split between train and test sets:\n",
        "\n",
        "(x_train, y_train), (x_test, y_test) = cifar10.load_data()\n",
        "\n",
        "\n",
        "\n",
        "print('x_train shape:', x_train.shape)\n",
        "print('y_train shape:', y_train.shape)\n",
        "\n",
        "print('x_test shape:', x_test.shape)\n",
        "print('y_test shape:', y_test.shape)\n",
        "\n",
        "\n",
        "print(x_train.shape[0], 'train samples')\n",
        "print(x_test.shape[0], 'test samples')"
      ],
      "execution_count": 7,
      "outputs": [
        {
          "output_type": "stream",
          "name": "stdout",
          "text": [
            "x_train shape: (50000, 32, 32, 3)\n",
            "y_train shape: (50000, 1)\n",
            "x_test shape: (10000, 32, 32, 3)\n",
            "y_test shape: (10000, 1)\n",
            "50000 train samples\n",
            "10000 test samples\n"
          ]
        }
      ]
    },
    {
      "cell_type": "markdown",
      "metadata": {
        "id": "UGSxqVVypDiX"
      },
      "source": [
        "### Here we would like to use one pre-trained model called VGG16.   For more details on VGG16, please go to https://neurohive.io/en/popular-networks/vgg16/\n",
        "\n",
        "\n",
        "### VGG16 supports down to 48x48 images as an input. However, the resolution of our images is too low, which is (32, 32) so we need to increase the resolution.   This is called upsampling. \n",
        "\n",
        "\n",
        "\n",
        "### Find a way to do upsampling for each image to increase its resolution from 32x32 to 64x64. One option is to use the function resize(), which is provided by scikit-image library (https://scikit-image.org/)\n",
        "\n",
        "\n",
        "### Hints: \n",
        "\n",
        "#### (1) If you use resize() in scikit-image, that function also normalizes the input image so you may not want to normalize twice.\n",
        "\n",
        "#### Learn from the examples here:  https://scikit-image.org/docs/stable/auto_examples/transform/plot_rescale.html\n",
        "\n",
        "#### (2) Apply upsampling to x_train and x_test seperately. "
      ]
    },
    {
      "cell_type": "markdown",
      "metadata": {
        "id": "1QWXZpwDPDnq"
      },
      "source": [
        ""
      ]
    },
    {
      "cell_type": "markdown",
      "metadata": {
        "id": "KpFZtvO3iA8f"
      },
      "source": [
        ""
      ]
    },
    {
      "cell_type": "code",
      "metadata": {
        "id": "XWwBKsh-fOgX"
      },
      "source": [
        "import skimage.transform\n",
        "from skimage.transform import resize\n",
        "from tensorflow.keras.applications import VGG16\n",
        "#new_x_train = resize(x_train[0], (x_train[1].shape * 2,x_train[2].shape * 2))\n",
        "new_x_train=np.zeros((50000,64,64,3));\n",
        "\n",
        "#new_x_train.shape\n",
        "for n,i in enumerate(x_train):\n",
        "    new_x_train[n,:,:,:] = resize(x_train[n,:,:,:], (64,64), anti_aliasing=True)\n",
        "\n",
        "\n",
        "#print(new_x_train[1:15])\n",
        "# this process may take about a few minutes ...."
      ],
      "execution_count": 8,
      "outputs": []
    },
    {
      "cell_type": "code",
      "metadata": {
        "id": "QxcYT1xgPFL7"
      },
      "source": [
        "del x_train;"
      ],
      "execution_count": 9,
      "outputs": []
    },
    {
      "cell_type": "code",
      "metadata": {
        "id": "0s0-oaKDfOgf"
      },
      "source": [
        "new_x_test=np.zeros((10000,64,64,3));\n",
        "\n",
        "#new_x_train.shape\n",
        "for n,i in enumerate(x_test):\n",
        "    new_x_test[n,:,:,:] = resize(x_test[n,:,:,:], (64,64), anti_aliasing=True)\n",
        "\n",
        "\n",
        "# this process may take about a few minutes ...."
      ],
      "execution_count": 10,
      "outputs": []
    },
    {
      "cell_type": "code",
      "metadata": {
        "id": "WXzxGNYIhfNu"
      },
      "source": [
        "del x_test;\n",
        "del cnn;"
      ],
      "execution_count": 11,
      "outputs": []
    },
    {
      "cell_type": "code",
      "metadata": {
        "colab": {
          "base_uri": "https://localhost:8080/",
          "height": 0
        },
        "id": "8oVMhwp7UjGS",
        "outputId": "ef64d304-b30c-4f2d-c147-1164a6fd9c5d"
      },
      "source": [
        "print(new_x_test.shape);\n",
        "print(new_x_train.shape);"
      ],
      "execution_count": 12,
      "outputs": [
        {
          "output_type": "stream",
          "name": "stdout",
          "text": [
            "(10000, 64, 64, 3)\n",
            "(50000, 64, 64, 3)\n"
          ]
        }
      ]
    },
    {
      "cell_type": "markdown",
      "metadata": {
        "id": "pPjFo2oyqlGO"
      },
      "source": [
        "### Write your code in the cell below to do the following:\n",
        "\n",
        "- First convert y_train and y_test from 2D to 1D by using reshape() function \n",
        "- Next apply one-hot encoding to y_train and y_test by using tf.keras.utils.to_categorical() function"
      ]
    },
    {
      "cell_type": "code",
      "metadata": {
        "id": "fQuVaf2pkRdr"
      },
      "source": [
        "y_train = y_train.reshape(50000)\n",
        "y_test = y_test.reshape(10000)\n",
        "\n",
        "y_train = tf.keras.utils.to_categorical(y_train, num_classes)\n",
        "y_test = tf.keras.utils.to_categorical(y_test, num_classes)\n"
      ],
      "execution_count": 13,
      "outputs": []
    },
    {
      "cell_type": "code",
      "metadata": {
        "id": "w_pLuCNjqvbf",
        "colab": {
          "base_uri": "https://localhost:8080/",
          "height": 0
        },
        "outputId": "f4324f81-f434-481f-f2ea-b548b8e63ca5"
      },
      "source": [
        "# double check shape\n",
        "\n",
        "print(y_train.shape)\n",
        "print(y_test.shape)\n",
        "\n",
        "\n",
        "# expected output:  (50000, 10)\n",
        "# expected output:  (10000, 10)"
      ],
      "execution_count": 14,
      "outputs": [
        {
          "output_type": "stream",
          "name": "stdout",
          "text": [
            "(50000, 10)\n",
            "(10000, 10)\n"
          ]
        }
      ]
    },
    {
      "cell_type": "markdown",
      "metadata": {
        "id": "x-bzRNdjfOgy"
      },
      "source": [
        "###  Load the pre-trained VGG16 model.  Write your code in the cell below to add each layer in VGG16 (excluding the top layers) to your new model.  "
      ]
    },
    {
      "cell_type": "code",
      "metadata": {
        "id": "4HLwE00VfOgz",
        "colab": {
          "base_uri": "https://localhost:8080/",
          "height": 0
        },
        "outputId": "3323aa5e-5335-4d42-b9fb-922b6e6c11b2"
      },
      "source": [
        "from tensorflow.keras.applications.vgg16 import VGG16\n",
        "from tensorflow.keras.layers import Conv2D, MaxPooling2D\n",
        "\n",
        "vgg_model = VGG16(weights='imagenet', include_top=False, input_shape=(64, 64, 3))   #  first hidden layer\n",
        "\n",
        "model = Sequential()\n",
        "for layer in vgg_model.layers:\n",
        "    model.add(layer);\n",
        "\n",
        "# print out the model summary\n",
        "model.summary()\n"
      ],
      "execution_count": 15,
      "outputs": [
        {
          "output_type": "stream",
          "name": "stdout",
          "text": [
            "Model: \"sequential_1\"\n",
            "_________________________________________________________________\n",
            "Layer (type)                 Output Shape              Param #   \n",
            "=================================================================\n",
            "block1_conv1 (Conv2D)        (None, 64, 64, 64)        1792      \n",
            "_________________________________________________________________\n",
            "block1_conv2 (Conv2D)        (None, 64, 64, 64)        36928     \n",
            "_________________________________________________________________\n",
            "block1_pool (MaxPooling2D)   (None, 32, 32, 64)        0         \n",
            "_________________________________________________________________\n",
            "block2_conv1 (Conv2D)        (None, 32, 32, 128)       73856     \n",
            "_________________________________________________________________\n",
            "block2_conv2 (Conv2D)        (None, 32, 32, 128)       147584    \n",
            "_________________________________________________________________\n",
            "block2_pool (MaxPooling2D)   (None, 16, 16, 128)       0         \n",
            "_________________________________________________________________\n",
            "block3_conv1 (Conv2D)        (None, 16, 16, 256)       295168    \n",
            "_________________________________________________________________\n",
            "block3_conv2 (Conv2D)        (None, 16, 16, 256)       590080    \n",
            "_________________________________________________________________\n",
            "block3_conv3 (Conv2D)        (None, 16, 16, 256)       590080    \n",
            "_________________________________________________________________\n",
            "block3_pool (MaxPooling2D)   (None, 8, 8, 256)         0         \n",
            "_________________________________________________________________\n",
            "block4_conv1 (Conv2D)        (None, 8, 8, 512)         1180160   \n",
            "_________________________________________________________________\n",
            "block4_conv2 (Conv2D)        (None, 8, 8, 512)         2359808   \n",
            "_________________________________________________________________\n",
            "block4_conv3 (Conv2D)        (None, 8, 8, 512)         2359808   \n",
            "_________________________________________________________________\n",
            "block4_pool (MaxPooling2D)   (None, 4, 4, 512)         0         \n",
            "_________________________________________________________________\n",
            "block5_conv1 (Conv2D)        (None, 4, 4, 512)         2359808   \n",
            "_________________________________________________________________\n",
            "block5_conv2 (Conv2D)        (None, 4, 4, 512)         2359808   \n",
            "_________________________________________________________________\n",
            "block5_conv3 (Conv2D)        (None, 4, 4, 512)         2359808   \n",
            "_________________________________________________________________\n",
            "block5_pool (MaxPooling2D)   (None, 2, 2, 512)         0         \n",
            "=================================================================\n",
            "Total params: 14,714,688\n",
            "Trainable params: 14,714,688\n",
            "Non-trainable params: 0\n",
            "_________________________________________________________________\n"
          ]
        }
      ]
    },
    {
      "cell_type": "markdown",
      "metadata": {
        "id": "4ki8D32hrl3E"
      },
      "source": [
        "### Write your code in the cell below to freeze the weights in each layer in the new model"
      ]
    },
    {
      "cell_type": "code",
      "metadata": {
        "id": "X_oqboGwfOg1"
      },
      "source": [
        "for layer in model.layers[:]:\n",
        "    layer.trainable=False\n"
      ],
      "execution_count": 16,
      "outputs": []
    },
    {
      "cell_type": "markdown",
      "metadata": {
        "id": "YArrSsS4rt_t"
      },
      "source": [
        "###  Write your code in the cell below to add some \"Dense\" layers as top layers.\n",
        "\n",
        "- Donot forget the output layer\n",
        "- Choose the right activation fucntion for the output layer"
      ]
    },
    {
      "cell_type": "code",
      "metadata": {
        "id": "Fphbz0FhfOg3",
        "colab": {
          "base_uri": "https://localhost:8080/",
          "height": 0
        },
        "outputId": "5a129600-e7d8-4fe9-d1f4-ac67ca1ab3e0"
      },
      "source": [
        "model.add(Flatten())\n",
        "\n",
        "\n",
        "# Add some \"Dense\" layers here, including output layer\n",
        "model.add(Dense(4096, activation='relu'))\n",
        "model.add(Dense(4096))\n",
        "model.add(Dropout(0.5))\n",
        "model.add(Dense(10, activation='softmax'))\n",
        "\n",
        "model.summary()"
      ],
      "execution_count": 17,
      "outputs": [
        {
          "output_type": "stream",
          "name": "stdout",
          "text": [
            "Model: \"sequential_1\"\n",
            "_________________________________________________________________\n",
            "Layer (type)                 Output Shape              Param #   \n",
            "=================================================================\n",
            "block1_conv1 (Conv2D)        (None, 64, 64, 64)        1792      \n",
            "_________________________________________________________________\n",
            "block1_conv2 (Conv2D)        (None, 64, 64, 64)        36928     \n",
            "_________________________________________________________________\n",
            "block1_pool (MaxPooling2D)   (None, 32, 32, 64)        0         \n",
            "_________________________________________________________________\n",
            "block2_conv1 (Conv2D)        (None, 32, 32, 128)       73856     \n",
            "_________________________________________________________________\n",
            "block2_conv2 (Conv2D)        (None, 32, 32, 128)       147584    \n",
            "_________________________________________________________________\n",
            "block2_pool (MaxPooling2D)   (None, 16, 16, 128)       0         \n",
            "_________________________________________________________________\n",
            "block3_conv1 (Conv2D)        (None, 16, 16, 256)       295168    \n",
            "_________________________________________________________________\n",
            "block3_conv2 (Conv2D)        (None, 16, 16, 256)       590080    \n",
            "_________________________________________________________________\n",
            "block3_conv3 (Conv2D)        (None, 16, 16, 256)       590080    \n",
            "_________________________________________________________________\n",
            "block3_pool (MaxPooling2D)   (None, 8, 8, 256)         0         \n",
            "_________________________________________________________________\n",
            "block4_conv1 (Conv2D)        (None, 8, 8, 512)         1180160   \n",
            "_________________________________________________________________\n",
            "block4_conv2 (Conv2D)        (None, 8, 8, 512)         2359808   \n",
            "_________________________________________________________________\n",
            "block4_conv3 (Conv2D)        (None, 8, 8, 512)         2359808   \n",
            "_________________________________________________________________\n",
            "block4_pool (MaxPooling2D)   (None, 4, 4, 512)         0         \n",
            "_________________________________________________________________\n",
            "block5_conv1 (Conv2D)        (None, 4, 4, 512)         2359808   \n",
            "_________________________________________________________________\n",
            "block5_conv2 (Conv2D)        (None, 4, 4, 512)         2359808   \n",
            "_________________________________________________________________\n",
            "block5_conv3 (Conv2D)        (None, 4, 4, 512)         2359808   \n",
            "_________________________________________________________________\n",
            "block5_pool (MaxPooling2D)   (None, 2, 2, 512)         0         \n",
            "_________________________________________________________________\n",
            "flatten_2 (Flatten)          (None, 2048)              0         \n",
            "_________________________________________________________________\n",
            "dense_3 (Dense)              (None, 4096)              8392704   \n",
            "_________________________________________________________________\n",
            "dense_4 (Dense)              (None, 4096)              16781312  \n",
            "_________________________________________________________________\n",
            "dropout_4 (Dropout)          (None, 4096)              0         \n",
            "_________________________________________________________________\n",
            "dense_5 (Dense)              (None, 10)                40970     \n",
            "=================================================================\n",
            "Total params: 39,929,674\n",
            "Trainable params: 25,214,986\n",
            "Non-trainable params: 14,714,688\n",
            "_________________________________________________________________\n"
          ]
        }
      ]
    },
    {
      "cell_type": "markdown",
      "metadata": {
        "id": "sDOG92fcr1m8"
      },
      "source": [
        "###  Write your code below for compile and fit. \n",
        "\n",
        "### Train your new model. \n",
        "\n",
        "### Notice that you should use earlystopping."
      ]
    },
    {
      "cell_type": "code",
      "metadata": {
        "id": "xWrWTc2JfOg6",
        "scrolled": false,
        "colab": {
          "base_uri": "https://localhost:8080/",
          "height": 0
        },
        "outputId": "b7ae2791-a1b7-46da-b779-7f63f1955619"
      },
      "source": [
        "from tensorflow.keras.optimizers import Adam\n",
        "from tensorflow.keras.callbacks import EarlyStopping, ModelCheckpoint\n",
        "\n",
        "model.compile(loss=tf.keras.losses.categorical_crossentropy, optimizer=Adam(lr=0.001, decay=1e-6), metrics=['accuracy'])\n",
        "checkpoint = ModelCheckpoint(\"vgg16_1.h5\", monitor='val_acc', verbose=1, save_best_only=True, save_weights_only=False, mode='auto', period=1)\n",
        "monitor = EarlyStopping(monitor='val_loss', min_delta=1e-3, patience=5, verbose=2, mode='auto')\n",
        "model.fit(new_x_train,y_train,batch_size=128,validation_data=(new_x_test,y_test),callbacks=[monitor],verbose=2,epochs=1000)\n",
        "\n",
        "\n",
        "# since we use GPU, the training time for each epoch for the transferred model is about 60 seconds.  \n",
        "# Let it run for a few epochs. "
      ],
      "execution_count": 18,
      "outputs": [
        {
          "output_type": "stream",
          "name": "stdout",
          "text": [
            "WARNING:tensorflow:`period` argument is deprecated. Please use `save_freq` to specify the frequency in number of batches seen.\n"
          ]
        },
        {
          "output_type": "stream",
          "name": "stderr",
          "text": [
            "/usr/local/lib/python3.7/dist-packages/keras/optimizer_v2/optimizer_v2.py:356: UserWarning: The `lr` argument is deprecated, use `learning_rate` instead.\n",
            "  \"The `lr` argument is deprecated, use `learning_rate` instead.\")\n"
          ]
        },
        {
          "output_type": "stream",
          "name": "stdout",
          "text": [
            "Epoch 1/1000\n",
            "391/391 - 82s - loss: 1.2813 - accuracy: 0.5983 - val_loss: 1.0057 - val_accuracy: 0.6520\n",
            "Epoch 2/1000\n",
            "391/391 - 45s - loss: 0.8980 - accuracy: 0.6865 - val_loss: 0.9241 - val_accuracy: 0.6808\n",
            "Epoch 3/1000\n",
            "391/391 - 45s - loss: 0.8199 - accuracy: 0.7150 - val_loss: 0.9042 - val_accuracy: 0.6878\n",
            "Epoch 4/1000\n",
            "391/391 - 48s - loss: 0.7674 - accuracy: 0.7308 - val_loss: 0.9130 - val_accuracy: 0.6928\n",
            "Epoch 5/1000\n",
            "391/391 - 45s - loss: 0.7172 - accuracy: 0.7481 - val_loss: 0.9288 - val_accuracy: 0.6937\n",
            "Epoch 6/1000\n",
            "391/391 - 45s - loss: 0.6750 - accuracy: 0.7621 - val_loss: 0.9204 - val_accuracy: 0.6909\n",
            "Epoch 7/1000\n",
            "391/391 - 45s - loss: 0.6385 - accuracy: 0.7750 - val_loss: 0.9585 - val_accuracy: 0.6924\n",
            "Epoch 8/1000\n",
            "391/391 - 45s - loss: 0.6018 - accuracy: 0.7856 - val_loss: 0.9609 - val_accuracy: 0.6962\n",
            "Epoch 00008: early stopping\n"
          ]
        },
        {
          "output_type": "execute_result",
          "data": {
            "text/plain": [
              "<keras.callbacks.History at 0x7fa4977f3690>"
            ]
          },
          "metadata": {},
          "execution_count": 18
        }
      ]
    },
    {
      "cell_type": "code",
      "metadata": {
        "id": "dv0Pv2bHrZQu"
      },
      "source": [
        "del model;\n",
        "del vgg_model;\n",
        "del new_x_train;\n",
        "del new_x_test;"
      ],
      "execution_count": 39,
      "outputs": []
    },
    {
      "cell_type": "markdown",
      "metadata": {
        "id": "ps2CZ8Xwrz_a"
      },
      "source": [
        "### Write your code below to print out the Precision, Recall, F1 score, and classification_report\n",
        "\n",
        "### Include your findings in the project report."
      ]
    },
    {
      "cell_type": "code",
      "metadata": {
        "id": "rMRuLfS3fOg8",
        "scrolled": true,
        "colab": {
          "base_uri": "https://localhost:8080/",
          "height": 0
        },
        "outputId": "b15103b6-3a7f-4b59-a270-ed041a5e997f"
      },
      "source": [
        "from sklearn import metrics\n",
        "\n",
        "pred=model.predict(new_x_test)\n",
        "pred = np.argmax(pred,axis=1)\n",
        "y_true = np.argmax(y_test,axis=1)\n",
        "cm = confusion_matrix(y_true, pred)\n",
        "print(cm)\n",
        "print(classification_report(y_true, pred))"
      ],
      "execution_count": 19,
      "outputs": [
        {
          "output_type": "stream",
          "name": "stdout",
          "text": [
            "[[687  35 104  13  21   8  15  21  70  26]\n",
            " [ 13 864   8   8   2   8  22  10  21  44]\n",
            " [ 22  14 675  31  49  47 113  37   7   5]\n",
            " [ 19  38  70 422  39 195 123  53  21  20]\n",
            " [ 12  17  93  43 603  47  93  66  18   8]\n",
            " [  2  16  51 111  35 631  52  77   7  18]\n",
            " [  5  19  48  36  41  39 795   5   9   3]\n",
            " [  7  15  39  31  60  55  18 755   7  13]\n",
            " [ 37  56  26  11   5   4  13   6 816  26]\n",
            " [ 25 133   9  22   7  15  13  27  35 714]]\n",
            "              precision    recall  f1-score   support\n",
            "\n",
            "           0       0.83      0.69      0.75      1000\n",
            "           1       0.72      0.86      0.78      1000\n",
            "           2       0.60      0.68      0.64      1000\n",
            "           3       0.58      0.42      0.49      1000\n",
            "           4       0.70      0.60      0.65      1000\n",
            "           5       0.60      0.63      0.62      1000\n",
            "           6       0.63      0.80      0.70      1000\n",
            "           7       0.71      0.76      0.73      1000\n",
            "           8       0.81      0.82      0.81      1000\n",
            "           9       0.81      0.71      0.76      1000\n",
            "\n",
            "    accuracy                           0.70     10000\n",
            "   macro avg       0.70      0.70      0.69     10000\n",
            "weighted avg       0.70      0.70      0.69     10000\n",
            "\n"
          ]
        }
      ]
    },
    {
      "cell_type": "markdown",
      "metadata": {
        "id": "PkatwrTod_ii"
      },
      "source": [
        "### Write your code in the cell below to show 3-5 images in the test set as well as their true labels and their labels predicted by your model with transfer learning. \n",
        "\n",
        "### Include your findings in the project report."
      ]
    },
    {
      "cell_type": "code",
      "metadata": {
        "id": "PoRepUWbd_ii",
        "colab": {
          "base_uri": "https://localhost:8080/",
          "height": 962
        },
        "outputId": "8dd66294-c034-4dc6-f822-c35edabc867c"
      },
      "source": [
        "\n",
        "fig = plt.figure(figsize=(10, 16))\n",
        "n=1;\n",
        "for i in range(10,15):\n",
        "  fig.add_subplot(3,2,n);\n",
        "  plt.xlabel(\"True Label: \" + class_names[y_true[i]]);\n",
        "  plt.imshow(new_x_test[i]);\n",
        "  plt.title(\"Predicted Label: \" + class_names[pred[i]]);\n",
        "  fig.subplots_adjust(top=0.9);\n",
        "  n+=1;\n"
      ],
      "execution_count": 38,
      "outputs": [
        {
          "output_type": "display_data",
          "data": {
            "image/png": "[encoded data removed]",
            "text/plain": [
              "<Figure size 720x1152 with 5 Axes>"
            ]
          },
          "metadata": {
            "needs_background": "light"
          }
        }
      ]
    }
  ]
}